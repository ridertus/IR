{
 "cells": [
  {
   "cell_type": "code",
   "execution_count": 1,
   "metadata": {},
   "outputs": [],
   "source": [
    "from flask import Flask, request\n",
    "from elasticsearch import Elasticsearch\n",
    "import time\n",
    "import pandas as pd\n",
    "import pymongo"
   ]
  },
  {
   "cell_type": "code",
   "execution_count": 5,
   "metadata": {},
   "outputs": [
    {
     "name": "stdout",
     "output_type": "stream",
     "text": [
      " * Serving Flask app '__main__'\n",
      " * Debug mode: off\n"
     ]
    },
    {
     "name": "stderr",
     "output_type": "stream",
     "text": [
      "WARNING: This is a development server. Do not use it in a production deployment. Use a production WSGI server instead.\n",
      " * Running on http://127.0.0.1:5000\n",
      "Press CTRL+C to quit\n",
      "127.0.0.1 - - [18/Mar/2024 20:47:09] \"GET /search?query=school HTTP/1.1\" 200 -\n"
     ]
    }
   ],
   "source": [
    "app = Flask(__name__)\n",
    "app.es_client = Elasticsearch(\"https://localhost:9200\", basic_auth=(\"elastic\", \"azjt*71kG2zv+cVkTTD8\"), ca_certs=\"./http_ca.crt\")\n",
    "app.df = pymongo.MongoClient(\"mongodb://localhost:27017\")[\"food\"]\n",
    "\n",
    "@app.route('/search', methods=['GET'])\n",
    "def search():\n",
    "    response_object = {'status': 'success'}\n",
    "    argList = request.args.to_dict(flat=False)  \n",
    "    query_term=argList['query'][0]\n",
    "    query = {\n",
    "        \"query_string\": {\n",
    "           \"query\": \"Sweet Rolls Easy\"\n",
    "        }\n",
    "        }\n",
    "    results = app.es_client.search(index='recipe', query=query)\n",
    "    results_df = pd.DataFrame(\n",
    "    [\n",
    "        [\n",
    "            hit[\"_id\"],\n",
    "            hit[\"_score\"],\n",
    "            hit[\"_source\"]['RecipeId'],\n",
    "            hit[\"_source\"]['Name'],\n",
    "            hit[\"_source\"]['AuthorId'],\n",
    "            hit[\"_source\"]['AuthorName'],\n",
    "            hit[\"_source\"]['CookTime'],\n",
    "            hit[\"_source\"]['PrepTime'],\n",
    "            hit[\"_source\"]['TotalTime'],\n",
    "            hit[\"_source\"]['DatePublished'],\n",
    "            hit[\"_source\"]['Description'],\n",
    "            hit[\"_source\"]['Images'],\n",
    "            hit[\"_source\"]['RecipeCategory'],\n",
    "            hit[\"_source\"]['Keywords'],\n",
    "            hit[\"_source\"]['RecipeIngredientQuantities'],\n",
    "            hit[\"_source\"]['RecipeIngredientParts'],\n",
    "            hit[\"_source\"]['AggregatedRating'],\n",
    "            hit[\"_source\"]['Calories'],\n",
    "            hit[\"_source\"]['FatContent'],\n",
    "            hit[\"_source\"]['SaturatedFatContent'],\n",
    "            hit[\"_source\"]['CholesterolContent'],\n",
    "            hit[\"_source\"]['SodiumContent'],\n",
    "            hit[\"_source\"]['CarbohydrateContent'],\n",
    "            hit[\"_source\"]['FiberContent'],\n",
    "            hit[\"_source\"]['SugarContent'],\n",
    "            hit[\"_source\"]['ProteinContent'],\n",
    "            hit[\"_source\"]['RecipeServings'],\n",
    "            hit[\"_source\"]['RecipeYield'],\n",
    "            hit[\"_source\"]['RecipeInstructions']\n",
    "        ]\n",
    "        for hit in results['hits']['hits']\n",
    "    ],\n",
    "    columns=[\n",
    "        '_id',\n",
    "        'score',\n",
    "        'RecipeId',\n",
    "        'Name',\n",
    "        'AuthorId',\n",
    "        'AuthorName',\n",
    "        'CookTime',\n",
    "        'PrepTime',\n",
    "        'TotalTime',\n",
    "        'DatePublished',\n",
    "        'Description',\n",
    "        'Images',\n",
    "        'RecipeCategory',\n",
    "        'Keywords',\n",
    "        'RecipeIngredientQuantities',\n",
    "        'RecipeIngredientParts',\n",
    "        'AggregatedRating',\n",
    "        'Calories',\n",
    "        'FatContent',\n",
    "        'SaturatedFatContent',\n",
    "        'CholesterolContent',\n",
    "        'SodiumContent',\n",
    "        'CarbohydrateContent',\n",
    "        'FiberContent',\n",
    "        'SugarContent',\n",
    "        'ProteinContent',\n",
    "        'RecipeServings',\n",
    "        'RecipeYield',\n",
    "        'RecipeInstructions'\n",
    "    ]\n",
    ")\n",
    "    results_df\n",
    "    response_object[\"results_df\"] = results_df.to_dict(\"records\")\n",
    "    return response_object\n",
    "\n",
    "if __name__ == '__main__':\n",
    "    app.run(debug=False)"
   ]
  }
 ],
 "metadata": {
  "kernelspec": {
   "display_name": "IR",
   "language": "python",
   "name": "python3"
  },
  "language_info": {
   "codemirror_mode": {
    "name": "ipython",
    "version": 3
   },
   "file_extension": ".py",
   "mimetype": "text/x-python",
   "name": "python",
   "nbconvert_exporter": "python",
   "pygments_lexer": "ipython3",
   "version": "3.11.8"
  }
 },
 "nbformat": 4,
 "nbformat_minor": 2
}
